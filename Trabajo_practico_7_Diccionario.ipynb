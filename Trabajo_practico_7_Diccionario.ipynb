{
  "nbformat": 4,
  "nbformat_minor": 0,
  "metadata": {
    "colab": {
      "provenance": [],
      "include_colab_link": true
    },
    "kernelspec": {
      "name": "python3",
      "display_name": "Python 3"
    }
  },
  "cells": [
    {
      "cell_type": "markdown",
      "metadata": {
        "id": "view-in-github",
        "colab_type": "text"
      },
      "source": [
        "<a href=\"https://colab.research.google.com/github/ThomasCasco/04---calculadora/blob/main/Trabajo_practico_7_Diccionario.ipynb\" target=\"_parent\"><img src=\"https://colab.research.google.com/assets/colab-badge.svg\" alt=\"Open In Colab\"/></a>"
      ]
    },
    {
      "cell_type": "markdown",
      "metadata": {
        "id": "42630xxYD0gZ"
      },
      "source": [
        "# ![alt text](https://upload.wikimedia.org/wikipedia/commons/thumb/c/c3/Python-logo-notext.svg/50px-Python-logo-notext.svg.png) **Trabajo Práctico 6: Diccionarios** ![alt text](https://upload.wikimedia.org/wikipedia/commons/thumb/c/c3/Python-logo-notext.svg/50px-Python-logo-notext.svg.png)\n",
        "\n",
        "En este trabajo práctico, vamos a trabajar con la estructura de datos **Diccionario** basado en el conjunto de Python. Recuerden crear una copia de este archivo en su ***Google Drive*** para tener permisos de edición.\n",
        "\n",
        "### Martin: **martin.pustilnik@unahur.edu.ar** ###"
      ]
    },
    {
      "cell_type": "markdown",
      "metadata": {
        "id": "xjXgmD3mskbR"
      },
      "source": [
        "### **Ejercicio 1**\n",
        "\n",
        "Implementar el TDA **Diccionario (Map)**, con las siguientes operaciones (Solo lo tienen que usar, ya esta implementado por nosotros, pero repasen el funcionamiento):\n",
        "- Crear (**\\_\\_init__()**).\n",
        "- **\\_\\_repr__()**: Para poder imprimir por consola.\n",
        "- **insertar(clave, significado)**: Inserta el par **<clave , significado>**, si la clave ya existe no debe modificar el diccionario.\n",
        "- **Asignación con \"dicc[clave] = significado\"**: Permite modificar significados de claves existentes y agregar nuevos pares. Esto se realiza implementado la función **\\_\\_setitem__()**.\n",
        "- **get(clave)**: Recibe una clave y retorna su significado, si la clave no existe lanza una excepción.\n",
        "- **Obtener con \"dicc[clave]\"**: Similar a **get**, pero con el operador **\"[ ]\"**. Esto se realiza implementando la función **\\_\\_getitem__()**.\n",
        "- **len()**: Retorna la cantidad de pares **<clave , significado>** en el diccionario.\n",
        "- **getKeys()**: Retorna lista con claves.\n",
        "- **getValues()**: Retorna lista con significados.\n",
        "- **Operador \"in\"**: Permite la búsqueda dentro del diccionario por las claves, es decir podemos hacer **\"if clave in diccionario\"**.\n",
        "- **remove(clave)**: Elimina el par clave-significado que contiene la clave que recibe como parámetro\n",
        "- **clone()**: Genera nuevo diccionario con el mismo contenido\n",
        "- **clear()**: Vacia diccionario\n",
        "\n",
        "Si quieren iterar el diccionario deben hacer (por ejemplo para imprimir todos los pares clave-significado en diferentes lineas):\n",
        "\n",
        "    \n",
        "    for clave in diccionario.keys():\n",
        "        print(clave, diccionario.get(clave))\n",
        "\n",
        "O el equivalente con el operador **\"[ ]\"**:\n",
        "\n",
        "\n",
        "    for clave in diccionario.keys():\n",
        "        print(clave, dicionario[clave])\n",
        "\n",
        "Aunque tengamos el operador **\"in\"** este sirve solo para búsquedas y no para iterar en diccionario, entonces no se puede hacer:\n",
        "\n",
        "\n",
        "    for clave in diccionario:\n",
        "\n",
        "\n",
        "\n",
        "\n",
        "\n",
        "\n"
      ]
    },
    {
      "cell_type": "code",
      "metadata": {
        "id": "vM50Hpx6yUDe"
      },
      "source": [
        "import copy as cp\n",
        "\n",
        "\n",
        "# {(\"Loro\",\"Vuela\"),(\"Pajaro\",\"Vuela\")}\n",
        "\n",
        "class Diccionario:\n",
        "  #######TDA tupla clave-valor#########################\n",
        "  class __TuplaDic:\n",
        "    def __init__(self, key, value):\n",
        "      self.data = (key,value)\n",
        "\n",
        "    def __repr__(self):\n",
        "      return self.data.__repr__()\n",
        "\n",
        "    def __eq__(self, key):\n",
        "      return self.data[0] == key\n",
        "\n",
        "    def __hash__(self):\n",
        "      return hash(self.data[0])\n",
        "\n",
        "    def getKey(self):\n",
        "      return self.data[0]\n",
        "\n",
        "    def getValue(self):\n",
        "      return self.data[1]\n",
        "  #######################################################\n",
        "\n",
        "  def __init__(self, key = None, value = None):\n",
        "    self.__estructura = set()\n",
        "    if key != None:\n",
        "      self.__estructura.add(Diccionario.__TuplaDic(key,value))\n",
        "\n",
        "  def __repr__(self) -> str:\n",
        "    return self.__estructura.__repr__()\n",
        "\n",
        "  ###Asignacion usando [], se recibe clave entre corchetes / Permite reemplazar aunque exista la clave\n",
        "  def __setitem__(self, key = None, value = None):\n",
        "    if key != None:\n",
        "      if key in self.__estructura:\n",
        "        self.__estructura.remove(key)\n",
        "      self.__estructura.add(Diccionario.__TuplaDic(key,value))\n",
        "\n",
        "  ###No inserta si existe la clave, es decir, si la clave existe en el dicc no modifica el valor\n",
        "  def insert(self, key = None, value = None):\n",
        "    if key != None:\n",
        "      self.__estructura.add(Diccionario.__TuplaDic(key,value))\n",
        "\n",
        "  ###Elimina si existe la clave, es decir, si la clave existe en el dicc elimina el par clave-valor\n",
        "  ###Sino existe la clave, no hace nada\n",
        "  def remove(self, key):\n",
        "    if key in self:\n",
        "        valor = self[key]\n",
        "        self.__estructura.remove(key)\n",
        "        return valor\n",
        "\n",
        "  ###Vacia dicc\n",
        "  def clear(self):\n",
        "    self.__estructura = set()\n",
        "\n",
        "  ###Clonar dicc\n",
        "  def clone(self):\n",
        "    return cp.deepcopy(self)\n",
        "\n",
        "  ###Acceso a valores usando [], se recibe clave entre corchetes\n",
        "  def __getitem__(self, key):\n",
        "    value = None\n",
        "    flag = False\n",
        "    for tuplaDic in self.__estructura:\n",
        "      if tuplaDic == key:\n",
        "        value = tuplaDic.getValue()\n",
        "        flag = True\n",
        "    if flag:\n",
        "      return value\n",
        "    else:\n",
        "      raise Exception(\"No existe la clave %s en el diccionario\" % (key))\n",
        "\n",
        "  ###Retorna valor de la clave que se recibe por parametro\n",
        "  def get(self, key):\n",
        "    value = None\n",
        "    flag = False\n",
        "    for tuplaDic in self.__estructura:\n",
        "      if tuplaDic.getKey() == key:\n",
        "        value = tuplaDic.getValue()\n",
        "        flag = True\n",
        "    if flag:\n",
        "      return value\n",
        "    else:\n",
        "      raise Exception(\"No existe la clave %s en el diccionario\" % (key))\n",
        "\n",
        "  ###Retorna lista con claves\n",
        "  def keys(self):\n",
        "    return [x.getKey() for x in self.__estructura]\n",
        "\n",
        "  ###Retorna lista con valores\n",
        "  def values(self):\n",
        "    return [x.getValue() for x in self.__estructura]\n",
        "\n",
        "  ###Operador \"in\"\n",
        "  def __contains__(self, key):\n",
        "    return key in self.__estructura\n",
        "\n",
        "  ###Tamaño de diccionario\n",
        "  def len(self) -> int:\n",
        "    return len(self.__estructura)\n"
      ],
      "execution_count": 2,
      "outputs": []
    },
    {
      "cell_type": "code",
      "source": [
        "class TuplaDic1:\n",
        "    def __init__(self, key, value):\n",
        "      self.data = (key,value)\n",
        "\n",
        "    def __repr__(self):\n",
        "      return self.data.__repr__()\n",
        "\n",
        "    def __eq__(self, key):\n",
        "      print(\"pasa por aca\")\n",
        "      return self.data[0] == key\n",
        "\n",
        "    def __hash__(self):\n",
        "      return hash(self.data[0])\n",
        "\n",
        "    def getKey(self):\n",
        "      return self.data[0]\n",
        "\n",
        "    def getValue(self):\n",
        "      return self.data[1]\n",
        "\n",
        "t1 = TuplaDic1(1,1)\n",
        "t2 = TuplaDic1(1,2)\n",
        "\n",
        "print(t1 == t2)\n"
      ],
      "metadata": {
        "id": "5A7Xwr4jSnqX",
        "colab": {
          "base_uri": "https://localhost:8080/"
        },
        "outputId": "3e84c2ba-5f05-4228-adc4-646a733caedd"
      },
      "execution_count": 3,
      "outputs": [
        {
          "output_type": "stream",
          "name": "stdout",
          "text": [
            "pasa por aca\n",
            "pasa por aca\n",
            "True\n"
          ]
        }
      ]
    },
    {
      "cell_type": "code",
      "source": [
        "d = Diccionario()\n",
        "d.insert(222,\"juan\")\n",
        "d.insert(333,\"pedro\")\n",
        "d.insert(333,\"maria\") # lo ignora\n",
        "\n",
        "print(d.__getitem__(222))\n",
        "\n",
        "\n",
        "for clave in d.keys():\n",
        "  print(\"clave \" + str(clave), \" significado \" + d[clave])\n",
        "\n",
        "print(222 in d)\n",
        "print(555 in d)\n",
        "d[222] = \"Nicolas\"  # <--- __setitem__\n",
        "print(d[222]) #  <---- __getitem__\n",
        "print(d.get(222))\n",
        "\n"
      ],
      "metadata": {
        "colab": {
          "base_uri": "https://localhost:8080/"
        },
        "id": "IXz9m63rZP5h",
        "outputId": "26c1ce3e-cbe5-4785-eee0-84afe47d3467"
      },
      "execution_count": null,
      "outputs": [
        {
          "output_type": "stream",
          "name": "stdout",
          "text": [
            "clave 333  significado pedro\n",
            "clave 222  significado juan\n",
            "True\n",
            "False\n",
            "Nicolas\n",
            "Nicolas\n"
          ]
        }
      ]
    },
    {
      "cell_type": "code",
      "source": [
        "d = Diccionario()\n",
        "d.insert(222,\"juan\")\n",
        "d.insert(333,\"pedro\")\n",
        "d.insert(333,\"maria\") # lo ignora\n",
        "\n",
        "print(d.__getitem__(222))\n",
        "d[222] = \"pepe\"\n",
        "d.__setitem__(222, \"pepe\")\n",
        "\n",
        "print(d[222])\n",
        "print(222 in d)\n",
        "d.remove(222)\n",
        "print(222 in d)"
      ],
      "metadata": {
        "colab": {
          "base_uri": "https://localhost:8080/"
        },
        "id": "3hZ8ONQh8v0b",
        "outputId": "8faf8950-bdc3-42a0-bf64-a729ea2782ec"
      },
      "execution_count": null,
      "outputs": [
        {
          "output_type": "stream",
          "name": "stdout",
          "text": [
            "juan\n",
            "pepe\n",
            "True\n",
            "False\n"
          ]
        }
      ]
    },
    {
      "cell_type": "code",
      "source": [
        "materias = [\"Intro Prog\", \"Objetos\", \"Estructura de Datos\", \"Intro Prog\", \"Inglés\", \"Objetos\", \"Estructura de Datos\"]\n",
        "notas = [4, 4, 4, 6, 7, 6, 6]\n",
        "\n",
        "\n"
      ],
      "metadata": {
        "id": "OIhPyZBvJWpL"
      },
      "execution_count": null,
      "outputs": []
    },
    {
      "cell_type": "markdown",
      "metadata": {
        "id": "I26IE7cG1BeA"
      },
      "source": [
        "### A partir del **Ejercicio 2** vamos a trabajar **fuera del TDA Diccionario** usando la interface que creamos en el **Ejercicio 1**. Es decir,se pueden usar solo las operaciones de la interface, no se puede acceder a los componentes internos del TDA. Si necesitan estructuras auxiliares, pueden usar cualquiera de las estructuras que vimos hasta ahora: Arreglos, Listas, Pilas, Colas, Diccionarios."
      ]
    },
    {
      "cell_type": "markdown",
      "metadata": {
        "id": "Q0D1vzJZzqID"
      },
      "source": [
        "### **Ejercicio 2**\n",
        "\n",
        "Escribir un programa que declare un Diccionario de **<entero , entero>** (clave entero y significado entero) y le agrege 4 pares. Luego debe mostrar el diccionario por pantalla y su tamaño.\n",
        "\n",
        "Finalmente, redefinir 2 significados y volver a imprimir."
      ]
    },
    {
      "cell_type": "code",
      "metadata": {
        "id": "Y4eHEO31zpnu",
        "colab": {
          "base_uri": "https://localhost:8080/"
        },
        "outputId": "7212c16f-3694-49a0-9023-f6975afe7868"
      },
      "source": [
        "dic = Diccionario()\n",
        "# como dice <Entero, Entero> agregamos\n",
        "dic.insert(2,3); dic.insert(35,3); dic.insert(3,3); dic.insert(5,3);\n",
        "# imprimimos el tamaño y el diccionario en si\n",
        "\n",
        "\n",
        "# redefinimos 2 valores\n",
        "dic[2] = 30; dic[35] = 40; dic[3] = 333;\n",
        "\n",
        "print(dic)\n",
        "\n"
      ],
      "execution_count": null,
      "outputs": [
        {
          "output_type": "stream",
          "name": "stdout",
          "text": [
            "{(3, 333), (2, 30), (35, 40), (5, 3)}\n"
          ]
        }
      ]
    },
    {
      "cell_type": "markdown",
      "metadata": {
        "id": "rds3Jsp10bJr"
      },
      "source": [
        "### **Ejercicio 3**\n",
        "\n",
        "Escribir un diccionario con sinónimos. Luego intentar insertar dos pares **<clave , significado>** con claves **repetidas** con la operacion **insert** y ver que sucede."
      ]
    },
    {
      "cell_type": "code",
      "metadata": {
        "id": "EJoEuAVx0eOc",
        "colab": {
          "base_uri": "https://localhost:8080/"
        },
        "outputId": "a8074482-ada3-4511-a253-a139cff928f4"
      },
      "source": [
        "dic = Diccionario()\n",
        "\n",
        "dic.insert(\"perro\",\"tiene 4 patas\")\n",
        "dic.insert(\"gato\",\"tiene 4 patas\")\n",
        "dic.insert(\"gato\",\"tiene 4 patas xxx\")\n",
        "\n",
        "print(dic)"
      ],
      "execution_count": null,
      "outputs": [
        {
          "output_type": "stream",
          "name": "stdout",
          "text": [
            "{('gato', 'tiene 4 patas'), ('perro', 'tiene 4 patas')}\n"
          ]
        }
      ]
    },
    {
      "cell_type": "markdown",
      "metadata": {
        "id": "-YN0LThH0dO6"
      },
      "source": [
        "### **Ejercicio 4**\n",
        "\n",
        "Escribir una función que dado una lista de enteros me devuelve otra(no necesariamente en el mismo orden) sin los numeros repetidos.\n",
        "\n",
        "Por ejemplo:\n",
        "\n",
        "Lista de entrada = [1 , 3 , 4 , 1 , 2 , 4 , 3 , 2]\n",
        "\n",
        "Lista de salida = [1 , 3 , 2, 4]"
      ]
    },
    {
      "cell_type": "code",
      "metadata": {
        "id": "KO9cVn4T0EFQ"
      },
      "source": [
        "# def ej4(lista):\n",
        "\n",
        "lista = [1 , 3 , 4 , 1 , 2 , 4 , 3 , 2]\n",
        "\n",
        "def eliminar_repetidos(lista):\n",
        "    lista_sin_repetidos = []\n",
        "    for elemento in lista:\n",
        "        if elemento not in lista_sin_repetidos:\n",
        "            lista_sin_repetidos.append(elemento)\n",
        "    return lista_sin_repetidos\n",
        "\n",
        "# Ejemplo de uso:\n",
        "lista_salida = eliminar_repetidos(lista)\n",
        "print(\"Lista de entrada =\", lista)\n",
        "print(\"Lista de salida =\", lista_salida)\n",
        "\n",
        "\n",
        "\n"
      ],
      "execution_count": null,
      "outputs": []
    },
    {
      "cell_type": "markdown",
      "metadata": {
        "id": "_Q_DCTjI3AGK"
      },
      "source": [
        "### **Ejercicio 5**\n",
        "\n",
        "Rehacer le ejercicio 4 pero retornando un diccionario en lugar de una lista.\n",
        "\n",
        "Por ejemplo:\n",
        "\n",
        "Lista de entrada = [1 , 3 , 4 , 1 , 2 , 4 , 3 , 2]\n",
        "\n",
        "Diccionario de salida = { (1 , None) , (3 , None) , (4 , None) , (2 , None) }"
      ]
    },
    {
      "cell_type": "code",
      "metadata": {
        "id": "soxJRW3fkYpc",
        "colab": {
          "base_uri": "https://localhost:8080/"
        },
        "outputId": "7c61c85e-e4b8-4e26-eb46-fd9e3065727e"
      },
      "source": [
        "\n",
        "lista = [1 , 3 , 4 , 1 , 2 , 4 , 3 , 2]\n",
        "\n",
        "def listaToDic(lista):\n",
        "  dic = Diccionario()\n",
        "  for x in lista:\n",
        "    dic.insert(x,None)\n",
        "  return dic\n",
        "\n",
        "dic = listaToDic(lista)\n",
        "\n",
        "for clave in dic.keys():\n",
        "  print(clave)\n",
        "\n",
        "\n",
        "\n",
        "\n"
      ],
      "execution_count": null,
      "outputs": [
        {
          "output_type": "stream",
          "name": "stdout",
          "text": [
            "1\n",
            "2\n",
            "3\n",
            "4\n"
          ]
        }
      ]
    },
    {
      "cell_type": "markdown",
      "metadata": {
        "id": "xfP229oY3ODC"
      },
      "source": [
        "### **Ejercicio 6**\n",
        "\n",
        "Escribir una función que recibe una lista de números como parámetro y devuelve un diccionario con los números de la lista como claves y la cantidad de apariciones de cada uno como su significado.\n",
        "\n",
        "Por ejemplo:\n",
        "\n",
        "Lista de entrada = [1 , 3 , 4 , 2 , 1 , 3 , 1 , 4 , 2 , 5 , 2]\n",
        "\n",
        "Diccionario de salida = { (1 , 3) , (3 , 2) , (4 , 2) , (2 , 3) , (5 , 1) }"
      ]
    },
    {
      "cell_type": "code",
      "source": [],
      "metadata": {
        "id": "SfhP4vVje0Q8"
      },
      "execution_count": null,
      "outputs": []
    },
    {
      "cell_type": "code",
      "metadata": {
        "id": "BMNroH_l3Ojz",
        "colab": {
          "base_uri": "https://localhost:8080/"
        },
        "outputId": "7dcb6275-4a66-4eeb-affd-00ac08160f2e"
      },
      "source": [
        "lista = [1 , 3 , 4 , 2 , 1 , 3 , 1 , 4 , 2 , 5 , 2]\n",
        "# lista = [1, 1, 1]\n",
        "\n",
        "\n",
        "def listaToDic(lista):\n",
        "  dic = Diccionario()\n",
        "  for x in lista:\n",
        "    if x in dic:\n",
        "      aux = dic[x]\n",
        "      aux = aux + 1\n",
        "      dic[x] = aux\n",
        "    else:\n",
        "      dic.insert(x,1)\n",
        "  return dic\n",
        "\n",
        "print (listaToDic(lista))\n"
      ],
      "execution_count": null,
      "outputs": [
        {
          "output_type": "stream",
          "name": "stdout",
          "text": [
            "{(1, 3), (2, 3), (3, 2), (4, 2), (5, 1)}\n"
          ]
        }
      ]
    },
    {
      "cell_type": "markdown",
      "metadata": {
        "id": "nxgYjoxl3gmz"
      },
      "source": [
        "### **Ejercicio 7**\n",
        "\n",
        "Escribir una función que recibe dos diccionarios y devuelve otro con la mezcla de los dos, para las claves repetidas, se queda con los significados de primer diccionario.\n",
        "\n",
        "Por ejemplo:\n",
        "\n",
        "Diccionario de entrada 1 = { (1 , 3) , (3 , 2) , (4 , 4) , (2 , 3) , (5 , 1) }\n",
        "\n",
        "Diccionario de entrada 2 = { (10 , 3) , (3 , 5) , (2 , 30) , (8 , 1) , (9 , 3) }\n",
        "\n",
        "Diccionario de salida = { (1 , 3) , (3 , 2) , (4 , 4) , (2 , 3) , (5 , 1) , (10 , 3) , (8 , 1) , (9 , 3) }"
      ]
    },
    {
      "cell_type": "code",
      "metadata": {
        "id": "Ojjaj3Z23g7j",
        "colab": {
          "base_uri": "https://localhost:8080/"
        },
        "outputId": "99472747-ed97-4a3d-a2a4-85ce992c1dc7"
      },
      "source": [
        "\n",
        "dic1 = Diccionario()\n",
        "dic1.insert(1, 3)\n",
        "dic1.insert(3, 2)\n",
        "dic1.insert(4, 4)\n",
        "dic1.insert(2, 3)\n",
        "dic1.insert(5, 1)\n",
        "\n",
        "dic2 = Diccionario()\n",
        "dic2.insert(10, 3)\n",
        "dic2.insert(3, 5)\n",
        "dic2.insert(2, 30)\n",
        "dic2.insert(8, 1)\n",
        "dic2.insert(9, 3)\n",
        "\n",
        "\n",
        "def mergeDic(dic1, dic2):\n",
        "  dic = dic1.clone()\n",
        "  for clave in dic2.keys():\n",
        "    # si ya existia no hace nada\n",
        "    dic.insert(clave,dic2[clave])\n",
        "  return dic\n",
        "\n",
        "print(mergeDic(dic1, dic2))\n",
        "\n"
      ],
      "execution_count": null,
      "outputs": [
        {
          "output_type": "stream",
          "name": "stdout",
          "text": [
            "{(1, 3), (2, 3), (3, 2), (4, 4), (5, 1), (8, 1), (9, 3), (10, 3)}\n"
          ]
        }
      ]
    },
    {
      "cell_type": "markdown",
      "metadata": {
        "id": "OLopy2zK38Am"
      },
      "source": [
        "### **Ejercicio 8**\n",
        "\n",
        "Escribir una función que modele el problema de administrar las materias que cursa un alumno.\n",
        "Es decir que reciba un diccionario, un alumno y una materia y agregue esa materia a las materias que cursa.\n",
        "\n",
        "**Nota: La lista de materias de cada alumno no debe tener materias repetidas.**\n",
        "\n",
        "Por ejemplo:\n",
        "\n",
        "Diccionario = { ( \"Alumno1\" , [\"Materia1\" , \"Materia2\"] )   ,   ( \"Alumno2\", [ \"Materia2\" , \"Materia3\" , \"Materia4\" ] ) }\n"
      ]
    },
    {
      "cell_type": "code",
      "metadata": {
        "id": "a-DTh4IX5gji",
        "outputId": "67479be6-6313-4186-cd93-14552474b4c3",
        "colab": {
          "base_uri": "https://localhost:8080/"
        }
      },
      "source": [
        "\n",
        "dic = Diccionario()\n",
        "\n",
        "\n",
        "def administraMaterias(dic, alumno, materia):\n",
        "    try:\n",
        "        materias = dic[alumno]  # Intenta obtener las materias del alumno\n",
        "        if materia not in materias:\n",
        "            materias.append(materia)\n",
        "        dic[alumno] = materias\n",
        "    except Exception:\n",
        "        dic[alumno] = [materia]\n",
        "\n",
        "administraMaterias(dic,\"Thomas\",\"Geologia\")\n",
        "administraMaterias(dic,\"Thomas\",\"bellas artes\")\n",
        "administraMaterias(dic,\"Thomas\",\"matematica\")\n",
        "administraMaterias(dic,\"Thomas\",\"Geologia\")\n",
        "print(dic)\n",
        "\n"
      ],
      "execution_count": 12,
      "outputs": [
        {
          "output_type": "stream",
          "name": "stdout",
          "text": [
            "{('Thomas', ['Geologia', 'bellas artes', 'matematica'])}\n"
          ]
        }
      ]
    },
    {
      "cell_type": "markdown",
      "metadata": {
        "id": "rc3aFx7i5g13"
      },
      "source": [
        "### **Ejercicio 9**\n",
        "\n",
        "Tenemos un diccionario del tipo **<Entero , Lista de enteros>** (clave número entero, significado lista de enteros) que dado un numero **X**, guarda las posibles combinaciones de ese número con otros.\n",
        "\n",
        "Escribir una función que recibe un diccionario de este tipo y devuelve una lista con los posibles pares de números (en formato de tupla).\n",
        "\n",
        "Por ejemplo:\n",
        "\n",
        "Diccionario de entrada = { (5 , [5 , 3 , 7 ] )  ,  ( 8, [ 15 , 3 ] ) }\n",
        "\n",
        "Lista de salida = [ (5 , 5) ,(5 , 3) , (5 , 7) , (8 , 15) , (8 , 3) ]\n",
        "\n"
      ]
    },
    {
      "cell_type": "code",
      "metadata": {
        "id": "k3RCSCM555Ql",
        "outputId": "918b22cb-03d2-4a63-deaa-409953e4dbc1",
        "colab": {
          "base_uri": "https://localhost:8080/"
        }
      },
      "source": [
        "\n",
        "dic = Diccionario()\n",
        "dic.insert(5,[5,3,7]); dic.insert(8,[15,3]);\n",
        "\n",
        "#para cada clave de mi diccionario,\n",
        "#itero por cada elemento de la lista en su valor, devolviendo clave + valor.\n",
        "\n",
        "\n",
        "\n",
        "\n",
        "def devolucionDePares(dic2):\n",
        "  arr1 = []\n",
        "  for clave in dic2.keys():\n",
        "    for element in dic2[clave]:\n",
        "      arr1.append((clave,element))\n",
        "\n",
        "  return arr1\n",
        "\n",
        "\n",
        "\n",
        "# notar que el dicc no tiene orden!\n",
        "# Lista de salida = [ (5 , 5) ,(5 , 3) , (5 , 7) , (8 , 15) , (8 , 3) ]\n",
        "\n",
        "devolucionDePares(dic)"
      ],
      "execution_count": 15,
      "outputs": [
        {
          "output_type": "execute_result",
          "data": {
            "text/plain": [
              "[(8, 15), (8, 3), (5, 5), (5, 3), (5, 7)]"
            ]
          },
          "metadata": {},
          "execution_count": 15
        }
      ]
    },
    {
      "cell_type": "markdown",
      "metadata": {
        "id": "qBL1crPl55oY"
      },
      "source": [
        "### **Ejercicio 10**\n",
        "\n",
        "Escribir una función que haga lo inverso del Ejercicio 9.\n",
        "\n",
        "Por ejemplo:\n",
        "\n",
        "Lista de entrada = [ (5 , 5) ,(5 , 3) , (5 , 7) , (8 , 15) , (8 , 3) ]\n",
        "\n",
        "Diccionario de salida = { (5 , [5 , 3 , 7 ] )  ,  ( 8, [ 15 , 3 ] ) }\n",
        "\n",
        "\n"
      ]
    },
    {
      "cell_type": "code",
      "metadata": {
        "id": "d4GH3FgpzMjp",
        "outputId": "3ee33711-d2b1-4051-fd33-8641d1b3bdec",
        "colab": {
          "base_uri": "https://localhost:8080/"
        }
      },
      "source": [
        "def diccionarioDeSalida(arr):\n",
        "    dics1 = Diccionario()\n",
        "    for element in arr:\n",
        "        clave, valor = element\n",
        "        if clave in dics1:\n",
        "            dics1[clave].append(valor)  # Agregar el valor a la lista existente\n",
        "        else:\n",
        "            dics1.insert(clave, [valor])  # Crear una nueva lista con el valor\n",
        "    return dics1\n",
        "\n",
        "# Lista de entrada\n",
        "arr1 = [(5, 5), (5, 3), (5, 7), (8, 15), (8, 3)]\n",
        "\n",
        "# Llamar a la función y mostrar el resultado\n",
        "diccionario = diccionarioDeSalida(arr1)\n",
        "print(diccionario)\n"
      ],
      "execution_count": 5,
      "outputs": [
        {
          "output_type": "stream",
          "name": "stdout",
          "text": [
            "{(8, [15, 3]), (5, [5, 3, 7])}\n"
          ]
        }
      ]
    },
    {
      "cell_type": "markdown",
      "metadata": {
        "id": "02nV6J1RzOZI"
      },
      "source": [
        "### **Ejercicio 11**\n",
        "\n",
        "Escribir el TDA **MatrizDePixels**, que modele una matriz de pixels (imagen) de **N x M** usando el tipo array del paquete numpy, donde cada pixel tiene un color representado por un número entero entre **0 y 255**.\n",
        "\n",
        "Hacer las operaciones del TDA para crear una MatrizDePixels (por defecto llena de ceros), leer y escribir pixels.\n",
        "\n",
        "Luego pruebenla con estos ejemplos:\n",
        "\n",
        "**a)** Crear una MatrizDePixels de **100 x 100** y agregarle valores a dos pixels.\n",
        "\n",
        "**b)** Crear una MatrizDePixels de **100000 x 50000** y agregarle valores a dos pixels.\n",
        "\n",
        "Explicar porque el inciso **b** da un error\n",
        "\n",
        "\n"
      ]
    },
    {
      "cell_type": "code",
      "metadata": {
        "id": "UvWvca9SDM4h",
        "outputId": "c35db0d1-3c0f-4b24-ad22-96eb12f74bfc",
        "colab": {
          "base_uri": "https://localhost:8080/"
        }
      },
      "source": [
        "import numpy as np\n",
        "\n",
        "class MatrizDePixels:\n",
        "    def __init__(self, n, m):\n",
        "        \"\"\"\n",
        "        Crea una matriz de píxeles de tamaño n x m, inicializada con ceros.\n",
        "        \"\"\"\n",
        "        self.matriz = np.zeros((n, m), dtype=np.uint8)\n",
        "\n",
        "    def leer_pixel(self, i, j):\n",
        "        \"\"\"\n",
        "        Lee el valor del píxel en la posición (i, j).\n",
        "        \"\"\"\n",
        "        return self.matriz[i, j]\n",
        "\n",
        "    def escribir_pixel(self, i, j, valor):\n",
        "        \"\"\"\n",
        "        Escribe un valor en el píxel en la posición (i, j).\n",
        "        \"\"\"\n",
        "        if 0 <= valor <= 255:\n",
        "            self.matriz[i, j] = valor\n",
        "        else:\n",
        "            raise ValueError(\"El valor del píxel debe estar entre 0 y 255\")\n",
        "\n",
        "# Prueba de la clase con los ejemplos proporcionados\n",
        "\n",
        "# a) Crear una MatrizDePixels de 100 x 100 y agregarle valores a dos píxeles.\n",
        "matriz_a = MatrizDePixels(100, 100)\n",
        "matriz_a.escribir_pixel(10, 10, 255)\n",
        "matriz_a.escribir_pixel(50, 50, 128)\n",
        "print(matriz_a.leer_pixel(10, 10))  # Debería imprimir 255\n",
        "print(matriz_a.leer_pixel(50, 50))  # Debería imprimir 128\n",
        "\n",
        "# b) Crear una MatrizDePixels de 100000 x 50000 y agregarle valores a dos píxeles.\n",
        "try:\n",
        "    matriz_b = MatrizDePixels(100000, 50000)\n",
        "    matriz_b.escribir_pixel(100, 100, 200)\n",
        "    matriz_b.escribir_pixel(99999, 49999, 50)\n",
        "    print(matriz_b.leer_pixel(100, 100))    # Debería imprimir 200\n",
        "    print(matriz_b.leer_pixel(99999, 49999))  # Debería imprimir 50\n",
        "except MemoryError as e:\n",
        "    print(\"Error de memoria:\", e)\n",
        "except Exception as e:\n",
        "    print(\"Otro error:\", e)\n"
      ],
      "execution_count": 6,
      "outputs": [
        {
          "output_type": "stream",
          "name": "stdout",
          "text": [
            "255\n",
            "128\n",
            "200\n",
            "50\n"
          ]
        }
      ]
    },
    {
      "cell_type": "markdown",
      "source": [
        "Ahora escribir el TDA **MatrizDePixelsDict**, que modele una matriz de pixels (imagen) de **N x M** usando un diccionario de **<(fila,columna) , pixel>**, donde cada pixel tiene un color representado por un número entero entre **0 y 255** y el par **(fila,columna)** indica la posición del pixel en la matriz.\n",
        "\n",
        "Hacer las operaciones del TDA para crear una MatrizDePixelsDict (por defecto llena de ceros), leer y escribir pixels.\n",
        "\n",
        "Luego pruebenla con estos ejemplos:\n",
        "\n",
        "**a)** Crear una MatrizDePixelsDict de **100 x 100** y agregarle valores a dos pixels.\n",
        "\n",
        "**b)** Crear una MatrizDePixelsDict de **100000 x 50000** y agregarle valores a dos pixels.\n",
        "\n",
        "Explicar porque el inciso **b** ahora si funciona"
      ],
      "metadata": {
        "id": "_GiVemNfJUj8"
      }
    },
    {
      "cell_type": "markdown",
      "source": [
        "**Nota:** Si importan el paquete **sys** pueden usar la función **sys.getsizeof(variable)** que retorna el espacio que ocupa una variable en memoria."
      ],
      "metadata": {
        "id": "SHOMF2WEMDW7"
      }
    },
    {
      "cell_type": "code",
      "metadata": {
        "id": "TMyxS2YBDNwh",
        "outputId": "da93fe7d-4f0c-4ccc-fa5f-7712911fc816",
        "colab": {
          "base_uri": "https://localhost:8080/"
        }
      },
      "source": [
        "class MatrizDePixelsDict:\n",
        "    def __init__(self, n, m):\n",
        "        \"\"\"\n",
        "        Crea una matriz de píxeles de tamaño n x m, inicializada con ceros.\n",
        "        \"\"\"\n",
        "        self.n = n\n",
        "        self.m = m\n",
        "        self.pixels = {}\n",
        "\n",
        "    def leer_pixel(self, i, j):\n",
        "        \"\"\"\n",
        "        Lee el valor del píxel en la posición (i, j).\n",
        "        \"\"\"\n",
        "        if (i, j) in self.pixels:\n",
        "            return self.pixels[(i, j)]\n",
        "        else:\n",
        "            return 0\n",
        "\n",
        "    def escribir_pixel(self, i, j, valor):\n",
        "        \"\"\"\n",
        "        Escribe un valor en el píxel en la posición (i, j).\n",
        "        \"\"\"\n",
        "        if 0 <= valor <= 255:\n",
        "            self.pixels[(i, j)] = valor\n",
        "        else:\n",
        "            raise ValueError(\"El valor del píxel debe estar entre 0 y 255\")\n",
        "\n",
        "# Prueba de la clase con los ejemplos proporcionados\n",
        "\n",
        "# a) Crear una MatrizDePixelsDict de 100 x 100 y agregarle valores a dos píxeles.\n",
        "matriz_a = MatrizDePixelsDict(100, 100)\n",
        "matriz_a.escribir_pixel(10, 10, 255)\n",
        "matriz_a.escribir_pixel(50, 50, 128)\n",
        "print(matriz_a.leer_pixel(10, 10))  # Debería imprimir 255\n",
        "print(matriz_a.leer_pixel(50, 50))  # Debería imprimir 128\n",
        "\n",
        "# b) Crear una MatrizDePixelsDict de 100000 x 50000 y agregarle valores a dos píxeles.\n",
        "matriz_b = MatrizDePixelsDict(100000, 50000)\n",
        "matriz_b.escribir_pixel(100, 100, 200)\n",
        "matriz_b.escribir_pixel(99999, 49999, 50)\n",
        "print(matriz_b.leer_pixel(100, 100))    # Debería imprimir 200\n",
        "print(matriz_b.leer_pixel(99999, 49999))  # Debería imprimir 50\n"
      ],
      "execution_count": 7,
      "outputs": [
        {
          "output_type": "stream",
          "name": "stdout",
          "text": [
            "255\n",
            "128\n",
            "200\n",
            "50\n"
          ]
        }
      ]
    },
    {
      "cell_type": "markdown",
      "source": [
        "### **Ejercicio 12**\n",
        "\n",
        "Implementar la suma matrices en el TDA **MatrizDePixelsDict**."
      ],
      "metadata": {
        "id": "a-69eMHdjcSy"
      }
    },
    {
      "cell_type": "code",
      "source": [],
      "metadata": {
        "id": "HUxXguFJeyRL"
      },
      "execution_count": null,
      "outputs": []
    }
  ]
}